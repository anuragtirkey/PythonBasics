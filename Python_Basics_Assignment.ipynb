{
  "nbformat": 4,
  "nbformat_minor": 0,
  "metadata": {
    "colab": {
      "provenance": []
    },
    "kernelspec": {
      "name": "python3",
      "display_name": "Python 3"
    },
    "language_info": {
      "name": "python"
    }
  },
  "cells": [
    {
      "cell_type": "markdown",
      "source": [
        "\n",
        "**Python Basics Assignment**\n",
        "\n",
        "1. What is Python, and why is it popular ?\n",
        "\n",
        "  Ans. Python is a high-level (Interpreted) programming language known for its ease of learning. It's popular because it's user-friendly, versatile, and has a rich set of libraries and large supportive community. At present Python is considered as the most preferred languange for tech. solutions and support for any industry.\n",
        "\n",
        "2. What is an interpreter in Python ?\n",
        "\n",
        "  Ans. An interpreter in Python is a program that executes code line by line, translating it into machine readable instructions. Contrary to other exisiting languages, python is proactive in identifying and alert for errors in any given conditon or parameter.\n",
        "\n",
        "3. What are pre-defined keywords in Python ?\n",
        "\n",
        "  Ans. Pre-defined words in python are reserved words that have special meanings and functions.\n",
        "\n",
        "4. Can keywords be used as variable names ?\n",
        "\n",
        "  Ans. NO, keywords cannot be used as variable names as they are reserved words that have special meaning in python syntax.\n",
        "\n",
        "5. What is mutability in Python ?\n",
        "\n",
        "  Ans. Mutabiliy in Python refers to whether an object's or element's state can be modified or not after creation.\n",
        "\n",
        "6. Why are lists mutable, but tuples are immutable?\n",
        "\n",
        "  Ans. Lists can be changed, hence it is considered mutable. And therefore, we can add or remove or modify elements or objects to it. Whereas, Tuples cannot be changed as they stay the same once created, thus makes it reliable and ideal for database that we do not want to get hindered at any stage.\n",
        "\n",
        "7. What is the difference between “==” and “is” operators in Python?\n",
        "\n",
        "  Ans.  \"==\" compares whether two values are equal or not. \"is\" condition identifies if the two variables are pointing to same obejct or element.\n",
        "\n",
        "8. What are logical operators in Python?\n",
        "\n",
        "  Ans. There are 3 types of Logical Operators in Python -  and, or, not.\n",
        "\n",
        "9. What is type casting in Python?\n",
        "\n",
        "  Ans. Type casting in Python means changing a variable from one type to another type. For example, converting a string to an integer or a float.\n",
        "\n",
        "10. What is the difference between implicit and explicit type casting?\n",
        "\n",
        "  Ans. Implicit Type Casting referes to the understanding within python language to distinguish and convert one data type to anaother. Whereas, Explicit Type Casting is when we convert one data type to another mannualy using functions such as : int(), float() str().    \n",
        "\n",
        "11. What is the purpose of conditional statements in Python?\n",
        "\n",
        "  Ans. Conditional statements in python allows us to execute different code blocks based on certain conditions which enable us to make a decision in our program.\n",
        "\n",
        "12. How does the elif statement work?\n",
        "\n",
        "  Ans. The \"elif\" statement in python stands for \"else if\". it is used to check multiple conditions after an Initialization Statement i.e. \"if\". So, if the \"if\" condition is wrong python moves to the \"elif\" condition. We can use multiple \"elif\"statements to check different conditions in sequence.\n",
        "\n",
        "13. What is the difference between for and while loops?\n",
        "\n",
        "  Ans. \"for\" loop iterated over a sequence of elements like : list, for a pre-defined number of times. Whereas, \"while\" loop continues to repeat a block of code until the conditon is met.\n",
        "\n",
        "14. Describe a scenario where a while loop is more suitable than a for loop?\n",
        "\n",
        "  Ans. \"while\" loop is great when we need to repeat actions based on conditions rather than a fixed number of times.\n",
        "\n",
        "  for instance, it can be used to limit or allow a user to put login - passwrord for a set number of times or attempts.\n",
        "\n",
        "\"\"\"\n"
      ],
      "metadata": {
        "id": "Usr8Qwqgdfns"
      }
    },
    {
      "cell_type": "markdown",
      "source": [
        "#**Practical Question**\n",
        "\n",
        "1. Write a Python program to print \"Hello, World!\n",
        "\n",
        "\n",
        "\n"
      ],
      "metadata": {
        "id": "CNvH5gCkw-0a"
      }
    },
    {
      "cell_type": "code",
      "source": [
        "print(\"Hello, World!\")\n"
      ],
      "metadata": {
        "colab": {
          "base_uri": "https://localhost:8080/"
        },
        "id": "Q9junO8qx3Ac",
        "outputId": "6340187f-19a3-4d87-cf9d-93b685b6bb6d"
      },
      "execution_count": null,
      "outputs": [
        {
          "output_type": "stream",
          "name": "stdout",
          "text": [
            "Hello, World!\n"
          ]
        }
      ]
    },
    {
      "cell_type": "markdown",
      "source": [
        "2. Write a Python program that displays your name and age.\n"
      ],
      "metadata": {
        "id": "gZlwPJN3yEq3"
      }
    },
    {
      "cell_type": "code",
      "source": [
        "name = \"anurag\"\n",
        "age = 25\n",
        "print(\"name:\", name, \"age:\", age)"
      ],
      "metadata": {
        "colab": {
          "base_uri": "https://localhost:8080/"
        },
        "id": "5d70YfEGyKDU",
        "outputId": "b34465a9-f4d0-42db-f4fc-7833bfc83f72"
      },
      "execution_count": null,
      "outputs": [
        {
          "output_type": "stream",
          "name": "stdout",
          "text": [
            "name: anurag age: 25\n"
          ]
        }
      ]
    },
    {
      "cell_type": "markdown",
      "source": [
        "3. Write code to print all the pre-defined keywords in Python using the keyword library."
      ],
      "metadata": {
        "id": "3DtwwPtHzRyU"
      }
    },
    {
      "cell_type": "code",
      "source": [
        "help(\"keywords\")"
      ],
      "metadata": {
        "colab": {
          "base_uri": "https://localhost:8080/"
        },
        "id": "x42eiIzDzYu2",
        "outputId": "a0b7ac5e-99e8-427c-ec9a-0a21dc277f14"
      },
      "execution_count": 9,
      "outputs": [
        {
          "output_type": "stream",
          "name": "stdout",
          "text": [
            "\n",
            "Here is a list of the Python keywords.  Enter any keyword to get more help.\n",
            "\n",
            "False               class               from                or\n",
            "None                continue            global              pass\n",
            "True                def                 if                  raise\n",
            "and                 del                 import              return\n",
            "as                  elif                in                  try\n",
            "assert              else                is                  while\n",
            "async               except              lambda              with\n",
            "await               finally             nonlocal            yield\n",
            "break               for                 not                 \n",
            "\n"
          ]
        }
      ]
    },
    {
      "cell_type": "markdown",
      "source": [
        "4. Write a program that checks if a given word is a Python keyword."
      ],
      "metadata": {
        "id": "dg7rFWge1T65"
      }
    },
    {
      "cell_type": "code",
      "source": [
        "# I cannot recall this. Thank You!"
      ],
      "metadata": {
        "id": "9PsbGRzo2UV3"
      },
      "execution_count": null,
      "outputs": []
    },
    {
      "cell_type": "markdown",
      "source": [
        "5. Create a list and tuple in Python, and demonstrate how attempting to change an element works differently for each."
      ],
      "metadata": {
        "id": "80ni5rH32bCo"
      }
    },
    {
      "cell_type": "code",
      "source": [
        "#converting an element from int to str\n",
        "list = [1,2,2.5,\"anurag\",\"true\", \"car\"]\n",
        "list [1] = str(\"pw skills\")\n",
        "list"
      ],
      "metadata": {
        "colab": {
          "base_uri": "https://localhost:8080/"
        },
        "id": "3WQl-W3Q2lwM",
        "outputId": "a1e3b01c-20f4-4532-fe8a-8c6623241b42"
      },
      "execution_count": null,
      "outputs": [
        {
          "output_type": "execute_result",
          "data": {
            "text/plain": [
              "[1, 'pw skills', 2.5, 'anurag', 'true', 'car']"
            ]
          },
          "metadata": {},
          "execution_count": 27
        }
      ]
    },
    {
      "cell_type": "code",
      "source": [
        "#trying to convert in a tuple\n",
        "tuple = (1,2,2.5,\"anurag\",\"true\",\"car\")\n",
        "tuple (1) = str(\"pw skills\")"
      ],
      "metadata": {
        "colab": {
          "base_uri": "https://localhost:8080/",
          "height": 106
        },
        "id": "Z-ff3skp4t6l",
        "outputId": "bfbe501d-783a-4ecd-8114-52d9cad19b1b"
      },
      "execution_count": null,
      "outputs": [
        {
          "output_type": "error",
          "ename": "SyntaxError",
          "evalue": "cannot assign to function call here. Maybe you meant '==' instead of '='? (<ipython-input-31-2b5307635c02>, line 3)",
          "traceback": [
            "\u001b[0;36m  File \u001b[0;32m\"<ipython-input-31-2b5307635c02>\"\u001b[0;36m, line \u001b[0;32m3\u001b[0m\n\u001b[0;31m    tuple (1) = str(\"pw skills\")\u001b[0m\n\u001b[0m    ^\u001b[0m\n\u001b[0;31mSyntaxError\u001b[0m\u001b[0;31m:\u001b[0m cannot assign to function call here. Maybe you meant '==' instead of '='?\n"
          ]
        }
      ]
    },
    {
      "cell_type": "markdown",
      "source": [
        "6. Write a function to demonstrate the behavior of mutable and immutable arguments."
      ],
      "metadata": {
        "id": "Go8FW--W5jlH"
      }
    },
    {
      "cell_type": "code",
      "source": [
        "# Converting Int to FLoat (both are mutable)\n",
        "a = 50\n",
        "type(a)\n",
        "a = float(a)\n",
        "print(a)"
      ],
      "metadata": {
        "colab": {
          "base_uri": "https://localhost:8080/"
        },
        "id": "vMJ5KP0H5q6I",
        "outputId": "df078aab-d512-429e-bf31-eefc46ae06d8"
      },
      "execution_count": null,
      "outputs": [
        {
          "output_type": "stream",
          "name": "stdout",
          "text": [
            "50.0\n"
          ]
        }
      ]
    },
    {
      "cell_type": "code",
      "source": [
        "# Converting Str element to Int\n",
        "b = \"pw skills\"\n",
        "b [0]\n",
        "b [0] = \"I\""
      ],
      "metadata": {
        "colab": {
          "base_uri": "https://localhost:8080/",
          "height": 176
        },
        "id": "UFSrLbTd7B1m",
        "outputId": "9fb2933c-e54d-4464-a3b5-ec56ee7506ee"
      },
      "execution_count": null,
      "outputs": [
        {
          "output_type": "error",
          "ename": "TypeError",
          "evalue": "'str' object does not support item assignment",
          "traceback": [
            "\u001b[0;31m---------------------------------------------------------------------------\u001b[0m",
            "\u001b[0;31mTypeError\u001b[0m                                 Traceback (most recent call last)",
            "\u001b[0;32m<ipython-input-48-e10375a87625>\u001b[0m in \u001b[0;36m<cell line: 4>\u001b[0;34m()\u001b[0m\n\u001b[1;32m      2\u001b[0m \u001b[0mb\u001b[0m \u001b[0;34m=\u001b[0m \u001b[0;34m\"pw skills\"\u001b[0m\u001b[0;34m\u001b[0m\u001b[0;34m\u001b[0m\u001b[0m\n\u001b[1;32m      3\u001b[0m \u001b[0mb\u001b[0m \u001b[0;34m[\u001b[0m\u001b[0;36m0\u001b[0m\u001b[0;34m]\u001b[0m\u001b[0;34m\u001b[0m\u001b[0;34m\u001b[0m\u001b[0m\n\u001b[0;32m----> 4\u001b[0;31m \u001b[0mb\u001b[0m \u001b[0;34m[\u001b[0m\u001b[0;36m0\u001b[0m\u001b[0;34m]\u001b[0m \u001b[0;34m=\u001b[0m \u001b[0;34m\"I\"\u001b[0m\u001b[0;34m\u001b[0m\u001b[0;34m\u001b[0m\u001b[0m\n\u001b[0m",
            "\u001b[0;31mTypeError\u001b[0m: 'str' object does not support item assignment"
          ]
        }
      ]
    },
    {
      "cell_type": "markdown",
      "source": [
        "7. Same Question as Nos 6.\n",
        "\n",
        "8. Write a program to demonstrate the use of logical operators."
      ],
      "metadata": {
        "id": "JiYQGjwo8Zkm"
      }
    },
    {
      "cell_type": "code",
      "source": [
        "#Logical Operators\n",
        "x = 10\n",
        "y = 20\n",
        "z = 30\n",
        "# Usind \"and\" Operator\n",
        "if x < y and y < z:\n",
        "  print(\"10 is less than 20 and 20 is less than 30\")\n",
        "else:\n",
        "  print(\"False\")"
      ],
      "metadata": {
        "colab": {
          "base_uri": "https://localhost:8080/"
        },
        "id": "_o05vgir8ntl",
        "outputId": "6d0f0b1b-db00-4062-dc86-f8af2d87744d"
      },
      "execution_count": null,
      "outputs": [
        {
          "output_type": "stream",
          "name": "stdout",
          "text": [
            "10 is less than 20 and 20 is less than 30\n"
          ]
        }
      ]
    },
    {
      "cell_type": "code",
      "source": [
        "x = 10\n",
        "y = 20\n",
        "z = 30\n",
        "# Usind \"or\" Operator\n",
        "if (x + y) == z or (x - y) == z:\n",
        "  print(\"XY are equal to z\")\n",
        "#one of the statement is true, so the print got executed."
      ],
      "metadata": {
        "colab": {
          "base_uri": "https://localhost:8080/"
        },
        "id": "dG6Q1GfA_ccV",
        "outputId": "151429dd-85a6-47f0-c9f0-087571c89df8"
      },
      "execution_count": null,
      "outputs": [
        {
          "output_type": "stream",
          "name": "stdout",
          "text": [
            "XY are equal to z\n"
          ]
        }
      ]
    },
    {
      "cell_type": "markdown",
      "source": [
        "9. Write a Python program to convert user input from string to integer, float, and boolean types."
      ],
      "metadata": {
        "id": "eD3L5e8b_qns"
      }
    },
    {
      "cell_type": "code",
      "source": [
        "name = input(\"enter your name: \")\n",
        "name"
      ],
      "metadata": {
        "colab": {
          "base_uri": "https://localhost:8080/",
          "height": 53
        },
        "id": "eJ7Sku4wCkHC",
        "outputId": "d85ebc00-3a8c-44e1-d622-f7dae5a01012"
      },
      "execution_count": 14,
      "outputs": [
        {
          "name": "stdout",
          "output_type": "stream",
          "text": [
            "enter your name: anurag\n"
          ]
        },
        {
          "output_type": "execute_result",
          "data": {
            "text/plain": [
              "'anurag'"
            ],
            "application/vnd.google.colaboratory.intrinsic+json": {
              "type": "string"
            }
          },
          "metadata": {},
          "execution_count": 14
        }
      ]
    },
    {
      "cell_type": "code",
      "source": [
        "type(name)"
      ],
      "metadata": {
        "colab": {
          "base_uri": "https://localhost:8080/"
        },
        "id": "itHVgclqFZ-e",
        "outputId": "424c5324-7697-4deb-fd33-fc40669b6cd6"
      },
      "execution_count": 15,
      "outputs": [
        {
          "output_type": "execute_result",
          "data": {
            "text/plain": [
              "str"
            ]
          },
          "metadata": {},
          "execution_count": 15
        }
      ]
    },
    {
      "cell_type": "code",
      "source": [
        "name = int(input('enter a number: '))\n",
        "name"
      ],
      "metadata": {
        "colab": {
          "base_uri": "https://localhost:8080/"
        },
        "id": "-hHiuIjvFeO6",
        "outputId": "da82e539-b3a7-4b2f-c768-2f4c65c562cc"
      },
      "execution_count": 17,
      "outputs": [
        {
          "name": "stdout",
          "output_type": "stream",
          "text": [
            "enter a number: 25\n"
          ]
        },
        {
          "output_type": "execute_result",
          "data": {
            "text/plain": [
              "25"
            ]
          },
          "metadata": {},
          "execution_count": 17
        }
      ]
    },
    {
      "cell_type": "code",
      "source": [
        "type(name)\n"
      ],
      "metadata": {
        "colab": {
          "base_uri": "https://localhost:8080/"
        },
        "id": "LbauXxy-FyUZ",
        "outputId": "94f87567-1a6f-4037-d1fd-57b921258016"
      },
      "execution_count": 18,
      "outputs": [
        {
          "output_type": "execute_result",
          "data": {
            "text/plain": [
              "int"
            ]
          },
          "metadata": {},
          "execution_count": 18
        }
      ]
    },
    {
      "cell_type": "code",
      "source": [
        "name = float(name)\n",
        "name"
      ],
      "metadata": {
        "colab": {
          "base_uri": "https://localhost:8080/"
        },
        "id": "1WQJ_7edF6UX",
        "outputId": "778c72e6-0da9-4f15-98d5-3467b82234e9"
      },
      "execution_count": 20,
      "outputs": [
        {
          "output_type": "execute_result",
          "data": {
            "text/plain": [
              "25.0"
            ]
          },
          "metadata": {},
          "execution_count": 20
        }
      ]
    },
    {
      "cell_type": "code",
      "source": [
        "type(name)"
      ],
      "metadata": {
        "colab": {
          "base_uri": "https://localhost:8080/"
        },
        "id": "AfN1uzTHGEa_",
        "outputId": "03b75556-3a3c-4453-e8bb-151f2390aff0"
      },
      "execution_count": 21,
      "outputs": [
        {
          "output_type": "execute_result",
          "data": {
            "text/plain": [
              "float"
            ]
          },
          "metadata": {},
          "execution_count": 21
        }
      ]
    },
    {
      "cell_type": "code",
      "source": [
        "name > 30"
      ],
      "metadata": {
        "colab": {
          "base_uri": "https://localhost:8080/"
        },
        "id": "JBr8itOpGHRf",
        "outputId": "76fb906c-b4f1-408d-9ef0-d8bf1803e0a9"
      },
      "execution_count": 25,
      "outputs": [
        {
          "output_type": "execute_result",
          "data": {
            "text/plain": [
              "False"
            ]
          },
          "metadata": {},
          "execution_count": 25
        }
      ]
    },
    {
      "cell_type": "markdown",
      "source": [
        "10. Write code to demonstrate type casting with list elements."
      ],
      "metadata": {
        "id": "-2xCfTm1G8ZC"
      }
    },
    {
      "cell_type": "code",
      "source": [
        "lista = [1,2,3.5,\"anurag\"]\n",
        "lista[3]\n",
        "lista[3] = int(25)\n",
        "lista"
      ],
      "metadata": {
        "colab": {
          "base_uri": "https://localhost:8080/"
        },
        "id": "dgF9sH1PHPeS",
        "outputId": "afa5d652-7f64-4060-ee6d-a0073681f450"
      },
      "execution_count": 61,
      "outputs": [
        {
          "output_type": "execute_result",
          "data": {
            "text/plain": [
              "[1, 2, 3.5, 25]"
            ]
          },
          "metadata": {},
          "execution_count": 61
        }
      ]
    },
    {
      "cell_type": "code",
      "source": [
        "lista[3] = float(lista[3])\n",
        "lista"
      ],
      "metadata": {
        "colab": {
          "base_uri": "https://localhost:8080/"
        },
        "id": "hkfIwN6NMahw",
        "outputId": "702ff8c0-6c85-4de5-8f54-46e413790584"
      },
      "execution_count": 64,
      "outputs": [
        {
          "output_type": "execute_result",
          "data": {
            "text/plain": [
              "[1, 2, 3.5, 25.0]"
            ]
          },
          "metadata": {},
          "execution_count": 64
        }
      ]
    },
    {
      "cell_type": "markdown",
      "source": [
        "11. Write a program that checks if a number is positive, negative, or zero."
      ],
      "metadata": {
        "id": "vRytJG3hM0EV"
      }
    },
    {
      "cell_type": "code",
      "source": [
        "# user input\n",
        "number = float(input(\"Enter a number: \"))\n",
        "\n",
        "# Check if the number is positive, negative, or zero\n",
        "if number > 0:\n",
        "    print(\"The number is positive.\")\n",
        "elif number < 0:\n",
        "    print(\"The number is negative.\")\n",
        "else:\n",
        "    print(\"The number is zero.\")\n"
      ],
      "metadata": {
        "colab": {
          "base_uri": "https://localhost:8080/"
        },
        "id": "9XdLLwiaM6cn",
        "outputId": "3f91ceb9-08f8-4439-8ee8-7fc5a3d73c77"
      },
      "execution_count": 65,
      "outputs": [
        {
          "output_type": "stream",
          "name": "stdout",
          "text": [
            "Enter a number: 25\n",
            "The number is positive.\n"
          ]
        }
      ]
    },
    {
      "cell_type": "code",
      "source": [
        "# Take user input\n",
        "number = float(input(\"Enter a number: \"))\n",
        "\n",
        "# Check if the number is positive, negative, or zero\n",
        "if number > 0:\n",
        "    print(\"The number is positive.\")\n",
        "elif number < 0:\n",
        "    print(\"The number is negative.\")\n",
        "else:\n",
        "    print(\"The number is zero.\")\n"
      ],
      "metadata": {
        "colab": {
          "base_uri": "https://localhost:8080/"
        },
        "id": "3GfzHcIYNNxp",
        "outputId": "cb4cf281-429d-4157-d917-52144247afea"
      },
      "execution_count": 66,
      "outputs": [
        {
          "output_type": "stream",
          "name": "stdout",
          "text": [
            "Enter a number: -1\n",
            "The number is negative.\n"
          ]
        }
      ]
    },
    {
      "cell_type": "code",
      "source": [
        "# Take user input\n",
        "number = float(input(\"Enter a number: \"))\n",
        "\n",
        "# Check if the number is positive, negative, or zero\n",
        "if number > 0:\n",
        "    print(\"The number is positive.\")\n",
        "elif number < 0:\n",
        "    print(\"The number is negative.\")\n",
        "else:\n",
        "    print(\"The number is zero.\")\n"
      ],
      "metadata": {
        "colab": {
          "base_uri": "https://localhost:8080/"
        },
        "id": "ip_ZY9PINTEO",
        "outputId": "874ca208-00d6-48e6-ab04-84e1c6f066ce"
      },
      "execution_count": 67,
      "outputs": [
        {
          "output_type": "stream",
          "name": "stdout",
          "text": [
            "Enter a number: 0\n",
            "The number is zero.\n"
          ]
        }
      ]
    },
    {
      "cell_type": "markdown",
      "source": [
        "12. Write a for loop to print numbers from 1 to 10."
      ],
      "metadata": {
        "id": "rQnHL65YNbbI"
      }
    },
    {
      "cell_type": "code",
      "source": [
        "for i in range (1, 11):\n",
        "  print(i, end = \" \")"
      ],
      "metadata": {
        "colab": {
          "base_uri": "https://localhost:8080/"
        },
        "id": "LfYE_wW1NiKo",
        "outputId": "582b4039-ec44-4947-8959-9054f6559da4"
      },
      "execution_count": 78,
      "outputs": [
        {
          "output_type": "stream",
          "name": "stdout",
          "text": [
            "1 2 3 4 5 6 7 8 9 10 "
          ]
        }
      ]
    },
    {
      "cell_type": "markdown",
      "source": [
        "13. Write a Python program to find the sum of all even numbers between 1 and 50."
      ],
      "metadata": {
        "id": "zcYL79V8ONj1"
      }
    },
    {
      "cell_type": "code",
      "source": [
        "sum_of_evens = 0\n",
        "\n",
        "for number in range(1, 51):\n",
        "    if number % 2 == 0:\n",
        "        sum_of_evens += number\n",
        "print(\"The sum of all even numbers between 1 and 50 is:\", sum_of_evens)\n"
      ],
      "metadata": {
        "colab": {
          "base_uri": "https://localhost:8080/"
        },
        "id": "_XQdHPTPOUjQ",
        "outputId": "df207452-53c8-4eed-f68b-cbd4f42a9646"
      },
      "execution_count": 79,
      "outputs": [
        {
          "output_type": "stream",
          "name": "stdout",
          "text": [
            "The sum of all even numbers between 1 and 50 is: 650\n"
          ]
        }
      ]
    },
    {
      "cell_type": "markdown",
      "source": [
        "14. Write a program to reverse a string using a while loop."
      ],
      "metadata": {
        "id": "Qwdi5C-_PbUm"
      }
    },
    {
      "cell_type": "code",
      "source": [
        "user = input(\"enter your name: \")"
      ],
      "metadata": {
        "colab": {
          "base_uri": "https://localhost:8080/",
          "height": 53
        },
        "id": "0AVavEe8PgaA",
        "outputId": "a38f75fb-7f4e-43cf-9675-fe2ea06c82cf"
      },
      "execution_count": 83,
      "outputs": [
        {
          "name": "stdout",
          "output_type": "stream",
          "text": [
            "enter your name: anurag\n"
          ]
        },
        {
          "output_type": "execute_result",
          "data": {
            "text/plain": [
              "'anurag'"
            ],
            "application/vnd.google.colaboratory.intrinsic+json": {
              "type": "string"
            }
          },
          "metadata": {},
          "execution_count": 83
        }
      ]
    },
    {
      "cell_type": "code",
      "source": [
        "user[::-1]"
      ],
      "metadata": {
        "colab": {
          "base_uri": "https://localhost:8080/",
          "height": 36
        },
        "id": "URY5rmA9TSur",
        "outputId": "63d4ba2a-0021-4a04-f009-6eb3cd1944c6"
      },
      "execution_count": 91,
      "outputs": [
        {
          "output_type": "execute_result",
          "data": {
            "text/plain": [
              "'garuna'"
            ],
            "application/vnd.google.colaboratory.intrinsic+json": {
              "type": "string"
            }
          },
          "metadata": {},
          "execution_count": 91
        }
      ]
    },
    {
      "cell_type": "markdown",
      "source": [
        "15. Write a Python program to calculate the factorial of a number provided by the user using a while loop."
      ],
      "metadata": {
        "id": "0PfP41VbTb6D"
      }
    },
    {
      "cell_type": "code",
      "source": [
        "number = int(input(\"Enter a number: \"))\n",
        "\n",
        "factorial = 1\n",
        "i = 1\n",
        "\n",
        "while i <= number:\n",
        "    factorial *= i\n",
        "    i += 1\n",
        "\n",
        "print(f\"Factorial of {number} is {factorial}\")\n"
      ],
      "metadata": {
        "colab": {
          "base_uri": "https://localhost:8080/"
        },
        "id": "IY8sSC43VDCu",
        "outputId": "aef52f96-8a92-4dad-dedb-3b01471ec713"
      },
      "execution_count": 92,
      "outputs": [
        {
          "output_type": "stream",
          "name": "stdout",
          "text": [
            "Enter a number: 5\n",
            "Factorial of 5 is 120\n"
          ]
        }
      ]
    }
  ]
}